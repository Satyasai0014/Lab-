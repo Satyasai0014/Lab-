{
 "cells": [
  {
   "cell_type": "markdown",
   "id": "54f04ab6",
   "metadata": {},
   "source": [
    "Q1. Write a program to compute the real roots of the equation  𝑎𝑥2+𝑏𝑥+𝑐."
   ]
  },
  {
   "cell_type": "code",
   "execution_count": 1,
   "id": "229ef182",
   "metadata": {},
   "outputs": [
    {
     "name": "stdout",
     "output_type": "stream",
     "text": [
      "Enter the coefficent of X^2 : 2\n",
      "Enter the coefficent of X : 5\n",
      "Enter the value of Constant : 3\n",
      "The roots are :  -1.0 -1.5\n"
     ]
    }
   ],
   "source": [
    "\"\"\"\n",
    "Summary : We are Trying to find roots of a quadratic equation \n",
    "using math and basic functions of python\n",
    "Author:Satya\n",
    "Date:04-08-2022\n",
    "\n",
    "  Parameters\n",
    "    ----------\n",
    "    a : int\n",
    "        Coefficient of X^2\n",
    "    b : int\n",
    "        Coefficient of X\n",
    "    c : int\n",
    "        Value of Constant\n",
    "\n",
    "    Returns\n",
    "    -------\n",
    "    e , f :int\n",
    "        The roots of aX^2+bX+c.\n",
    "\"\"\"\n",
    "import math #importing math package for sqrt function\n",
    "\n",
    "a = int(input(\"Enter the coefficent of X^2 : \"))\n",
    "b = int(input(\"Enter the coefficent of X : \"))\n",
    "c = int(input(\"Enter the value of Constant : \"))\n",
    "# Taking inputs from the user\n",
    "\n",
    "d = math.sqrt((b**2)-(4*a*c)) #((-b+-sqrt(b^2-4ac))/2a)\n",
    "\n",
    "e = (-b+d)/(2*a)#calculating roots\n",
    "f = (-b-d)/(2*a)\n",
    "\n",
    "print(\"The roots are : \",e  ,f)"
   ]
  },
  {
   "cell_type": "markdown",
   "id": "713be3d2",
   "metadata": {},
   "source": [
    "Q3. Lets say you are running a 5 km race. Write a program that,\n",
    "\n",
    "Upon completing each 1 km asks you \"are you tired?\"\n",
    "\n",
    "If you reply \"yes\" then it should break and print \"you didn't finish the race\"\n",
    "\n",
    "If you reply \"no\" then it should continue and ask \"are you tired\" on every km\n",
    "\n",
    "If you finish all 5 km then it should print congratulations message"
   ]
  },
  {
   "cell_type": "code",
   "execution_count": 15,
   "id": "f5b8cd56",
   "metadata": {},
   "outputs": [
    {
     "name": "stdout",
     "output_type": "stream",
     "text": [
      "Are you Tired?   no\n",
      "Are you Tired?   no\n",
      "Are you Tired?   no\n",
      "Are you Tired?   no\n",
      "******************CONGRATULATIONS!! YOU DID IT !!*********************\n"
     ]
    }
   ],
   "source": [
    "\"\"\"Summary : Trying to know whether player is tried or not\n",
    "Author:Satya\n",
    "Date:04-08-2022.\n",
    "\n",
    "Parameters\n",
    "    ----------\n",
    "    a : str\n",
    "        takes yes or no\n",
    "   \n",
    "\"\"\"\n",
    "\n",
    "for i in range(4):# using for loop to ask user for every value of i wheather he is tired r not in the range of 4\n",
    "\n",
    "    a = input(\"Are you Tired?   \")\n",
    "\n",
    "    if a == \"yes\": #if the input is same as this string then condition satisfies and goes in print and break out of the program\n",
    "\n",
    "        print(\"You didn't finish the race\")\n",
    "        break\n",
    "\n",
    "if i==3:\n",
    "    print(\"******************CONGRATULATIONS!! YOU DID IT !!*********************\")\n",
    "else:\n",
    "    print(\"Better luck next time!!\")"
   ]
  },
  {
   "cell_type": "markdown",
   "id": "f37de2c8",
   "metadata": {},
   "source": [
    "Q7. Write a function letter_grader(percent), where grade is the string ‘O’ if percent is greater than 80, ‘A’ if percent is greater than 70, ‘B‘ if percent is greater than 60, ‘C’ if percent is greater than 40, and ‘F’ if percent is less than 40. Grades exactly on the division should be included in the higher grade category."
   ]
  },
  {
   "cell_type": "code",
   "execution_count": 2,
   "id": "b2682d22",
   "metadata": {},
   "outputs": [
    {
     "name": "stdout",
     "output_type": "stream",
     "text": [
      "Enter the Percentage : 80\n",
      "Grade : O\n"
     ]
    }
   ],
   "source": [
    "\"\"\"\n",
    "_Summary_:Checking grade percentage and printing corresponding grade using basic python if conditons\n",
    "Author:Satya_22228\n",
    "Date:04-08-2022.\n",
    "    \n",
    "\"\"\"\n",
    "\n",
    "\n",
    "def letter_grader(num):\n",
    "    \"\"\" Parameters\n",
    "    ----------\n",
    "    num : float\n",
    "        Takes percentage \n",
    "    \n",
    "    Returns\n",
    "    str\n",
    "    gives grade\n",
    "    -------\"\"\"\n",
    "    num = float(input(\"Enter the Percentage : \"))\n",
    "    \n",
    "    if num >= 80:\n",
    "        print(\"Grade : O\")\n",
    "    elif num >= 70 and num < 80:\n",
    "        print(\"Grade : A\")\n",
    "    elif num >= 60 and num < 70:\n",
    "        print(\"Grade : B\")\n",
    "    elif num >=40 and num < 60:\n",
    "        print(\"Grade : C\")\n",
    "    else:\n",
    "        print(\"**Fails**\")\n",
    "        \n",
    "letter_grader(70)\n",
    "    \n"
   ]
  },
  {
   "cell_type": "markdown",
   "id": "cdec570d",
   "metadata": {},
   "source": [
    "Q4. Write a function tip_calc(bill, party), where bill is the total cost of a meal and party is the number of people in the group. The tip should be calculated as 15% for a party strictly less than six people, 18% for a party strictly less than eight, 20% for a party less than 11, and 25% for a party 11 or more. A couple of test cases are given below."
   ]
  },
  {
   "cell_type": "code",
   "execution_count": null,
   "id": "88c5bbac",
   "metadata": {},
   "outputs": [],
   "source": [
    "\"\"\"_Summary_:Calculating Tip amount according to the number of people came for the party to the restaurant\n",
    "Author:Satya_22228\n",
    "Date:05-08-2022\n",
    "\"\"\"\n",
    "\n",
    "\n",
    "def tip_calc(bill,pep): #defining function tip_calc with two parameters\n",
    "    \"\"\"Parameters\n",
    "    ----------\n",
    "    bill : int\n",
    "        Takes bill amount\n",
    "    pep : int\n",
    "        Takes count of people came for party\n",
    "    \n",
    "\n",
    "    Returns\n",
    "    -------\n",
    "    tip: float\n",
    "    gives total tip amount\"\"\"\n",
    "    \n",
    "    bill = int(input(\"Enter the Bill Amount :  \"))\n",
    "    \n",
    "    pep = int(input(\"Enter the Number of People came for the party  : \"))\n",
    "    #Taking user inputs for bill amount and number of people attended that party.\n",
    "    \n",
    "    tip = 0\n",
    "    if pep < 6 :\n",
    "        tip = 0.15 * bill\n",
    "    elif pep < 8 and pep >=6:\n",
    "        tip = 0.18 * bill\n",
    "    elif pep <11 and pep >=8:\n",
    "        tip = 0.20 * bill\n",
    "    elif pep >=11:\n",
    "        tip = 0.25 * bill\n",
    "    #return tip  \n",
    "\n",
    "    print(\"The Total Tip Amount is : \",tip)\n",
    "        \n",
    "tip_calc(50,10)"
   ]
  },
  {
   "cell_type": "markdown",
   "id": "f7277c9a",
   "metadata": {},
   "source": [
    "Q5. Write a function mult_operation(a,b,operation). The input argument, operation, is a string that is either 'plus', 'minus', 'mult', 'div', or 'pow', and the function should compute: a+b, a−b, a∗b, a/b, and ab for the respective values for operation. A couple of test cases are given below."
   ]
  },
  {
   "cell_type": "code",
   "execution_count": 3,
   "id": "678ab70b",
   "metadata": {},
   "outputs": [
    {
     "name": "stdout",
     "output_type": "stream",
     "text": [
      " Operaions available 'plus' or 'minus' or 'mult' or 'div' or  'pow' \n",
      "Enter the First number : 2\n",
      "Enter the Second number : 5\n",
      "Enter the operation : pow\n"
     ]
    },
    {
     "data": {
      "text/plain": [
       "32"
      ]
     },
     "execution_count": 3,
     "metadata": {},
     "output_type": "execute_result"
    }
   ],
   "source": [
    "\"\"\"\n",
    "_Summary_: Returning the output by doing specified operation on a & b\n",
    "Author:Satya_22228\n",
    "Date:04-08-2022\n",
    "\n",
    "   \n",
    "\"\"\"\n",
    "#Doing several operations on a and b.\n",
    "def mult_operation(a,b,operation): #defining mult_operation function with 3 parameters\n",
    "    \"\"\" Parameters\n",
    "    ----------\n",
    "    a : int\n",
    "        First number to perform Arithmetic Operations\n",
    "    b : int\n",
    "        Second number to perform Arithmetic Operations\n",
    "    operation : str\n",
    "        operation to perform.\n",
    "\n",
    "    Returns\n",
    "    -------\n",
    "    int\n",
    "        Result after performing arithmetic operations on a and b .\"\"\"    \n",
    "    if operation == 'plus':\n",
    "        return a+b\n",
    "    elif operation == 'minus':\n",
    "        return a-b\n",
    "    elif operation == 'mult':\n",
    "        return a*b\n",
    "    elif operation == 'div':\n",
    "        return a/b\n",
    "    elif operation == 'pow':\n",
    "        return a**b\n",
    "    \n",
    "   # print(\"The Result is :\" )\n",
    "print(\" Operaions available 'plus' or 'minus' or 'mult' or 'div' or  'pow' \")    \n",
    "a = int(input(\"Enter the First number : \"))\n",
    "b = int(input(\"Enter the Second number : \"))  \n",
    "operation = input(\"Enter the operation : \")    \n",
    "mult_operation(a,b,operation)\n",
    "        \n",
    "   "
   ]
  },
  {
   "cell_type": "markdown",
   "id": "68210b08",
   "metadata": {},
   "source": [
    "Q10. Write a function vol_cylinder(r,h), where  𝑟  and  ℎ  are the radius and height of a cylinder, respectively, and the output is a list  [𝑠,𝑣]  where  𝑠  and  𝑣  are the surface area and volume of the same cylinder, respectively. Recall that the surface area of a cylinder is  2π𝑟2+2π𝑟ℎ,  and the volume is  π𝑟2ℎ.  Assume that  𝑟  and  ℎ  are 1 by 1 float."
   ]
  },
  {
   "cell_type": "code",
   "execution_count": 17,
   "id": "11e951ff",
   "metadata": {},
   "outputs": [
    {
     "name": "stdout",
     "output_type": "stream",
     "text": [
      "Enter the Radius : 2\n",
      "Enter the Height : 5\n"
     ]
    },
    {
     "data": {
      "text/plain": [
       "(87.96459430051421, 62.83185307179586)"
      ]
     },
     "execution_count": 17,
     "metadata": {},
     "output_type": "execute_result"
    }
   ],
   "source": [
    "\"\"\"\n",
    "_Summary_: Calculating Surface area and Volume of a cylinder by taking radius and height value from user\n",
    "Author:Satya-22228\n",
    "Date:05-08-2022\n",
    "\n",
    "\"\"\"\n",
    "\n",
    "import math #importing math package for pi value\n",
    "\n",
    "def vol_cylinder(r,h): # defining function \n",
    "     \"\"\"Parameters\n",
    "    ----------\n",
    "    a : float\n",
    "        Radius of Cylinder\n",
    "    b : float\n",
    "        Height of Cylinder\n",
    "\n",
    "    Returns\n",
    "    -------\n",
    "    float\n",
    "        Gives Surface area and Volume of Cylinder\"\"\"\n",
    "    s_area = 2*math.pi*r*r+2*math.pi*r*h # surface area of the cylinder 2(pi)(r^2)+2(pi)rh\n",
    "    vol = math.pi*r*r*h #calculating volume of the cylinder pi(r^2)h\n",
    "    return(s_area,vol)\n",
    "\n",
    "a = float(input(\"Enter the Radius : \"))\n",
    "b = float(input(\"Enter the Height : \"))\n",
    "vol_cylinder(a,b)"
   ]
  },
  {
   "cell_type": "markdown",
   "id": "debfa2ad",
   "metadata": {},
   "source": [
    "Q6.Consider a triangle with vertices at (0,0), (1,0), and (0,1). Write a function inside_triangle(x,y) where the output is the string ‘outside’ if the point (x,y) is outside of the triangle, ‘border’ if the point is exactly on the border of the triangle, and ‘inside’ if the point is on the inside of the triangle."
   ]
  },
  {
   "cell_type": "code",
   "execution_count": 8,
   "id": "df0fb27f",
   "metadata": {},
   "outputs": [
    {
     "name": "stdout",
     "output_type": "stream",
     "text": [
      "Enter the x coordinate : 2\n",
      "Enter the y coordinate : 0\n",
      "Border\n"
     ]
    }
   ],
   "source": [
    "\"\"\"\n",
    "_Summary_:Checking the coordinates using if and elif to know whether those coordinates are \n",
    "    inside,ouside or on border of the triangle.\n",
    "Author:Satya_22228\n",
    "Date:05-08-2022.\n",
    " \n",
    "\"\"\"\n",
    "\n",
    "def inside_triangle(x,y):#defining function inside_triangle with two parameters\n",
    "    #Checking the coordinates using if and elif to know whether those coordinates are \n",
    "    #inside,ouside or on border of the triangle\n",
    "    \"\"\"Parameters\n",
    "    ----------\n",
    "    x :float\n",
    "        Coordinate of x\n",
    "    y :float\n",
    "        Coordinate of y\n",
    "\n",
    "    Returns\n",
    "    -------\n",
    "    str\"\"\"\n",
    "    if  x+y==1 or x>=0 and x<=1 or y>=0 and y<=1:\n",
    "        print(\"Border\")\n",
    "        return\n",
    "    elif x+y>=1:\n",
    "        print(\"Outside\")\n",
    "        return\n",
    "    elif x+y<=1:\n",
    "        print(\"Inside\")\n",
    "        return      \n",
    "#taking user inputs that can be in float datatype also.    \n",
    "x = float(input(\"Enter the x coordinate : \"))\n",
    "y = float(input(\"Enter the y coordinate : \"))\n",
    "\n",
    "inside_triangle(x,y)"
   ]
  },
  {
   "cell_type": "markdown",
   "id": "3b187643",
   "metadata": {},
   "source": [
    "Q8. Consider a nuclear reactor whose temperature is monitored by three sensors. An alarm should go off if any two of the sensor readings disagree. Write a function nuke_alarm(s1,s2,s3) where s1, s2, and s3 are the temperature readings for sensor 1, sensor 2, and sensor 3, respectively. The output should be the string ‘alarm!’ if any two of the temperature readings disagree by strictly more than 10 degrees and ‘normal’ otherwise."
   ]
  },
  {
   "cell_type": "code",
   "execution_count": 3,
   "id": "7814447c",
   "metadata": {},
   "outputs": [
    {
     "name": "stdout",
     "output_type": "stream",
     "text": [
      "Enter the Temperature of Sensor1 : 10\n",
      "Enter the Temperature of Sensor2 : 11\n",
      "Enter the Temperature of Sensor3 : 12\n"
     ]
    },
    {
     "data": {
      "text/plain": [
       "'Everything is Under Control!'"
      ]
     },
     "execution_count": 3,
     "metadata": {},
     "output_type": "execute_result"
    }
   ],
   "source": [
    "\"\"\"\n",
    "_Summary_: Checking temperature differences between three sensors \n",
    "and alarming if the difference is more than ten\n",
    "Author:Satya-22228\n",
    "Date:06-08-2022\n",
    " \n",
    "\n",
    "\"\"\"\n",
    "def nuke_alarm(s1,s2,s3):#defined function called nuke_alarm which takes 3 arguments s1,s2,s3\n",
    "    \"\"\"Parameters\n",
    "    ----------\n",
    "     s1: float\n",
    "         Takes temperature of Sensor 1\n",
    "     s2 : float\n",
    "         Takes temperature of Sensor 2\n",
    "     s3 : float\n",
    "         Takes temperature of Sensor 3\n",
    "\n",
    "    Returns\n",
    "    -------\n",
    "    str\"\"\"\n",
    "    if s1-s2>10 or s2-s3>10 or s3-s1>10 or s3-s1>10 or s3-s2>10 or s2-s1>10:\n",
    "        #condtion where we are checking temperature difference between every two sensors.\n",
    "        return(\"**********************!!!!!!!!ALARM!!!!!!!!**********************\")\n",
    "    else:\n",
    "        return(\"Everything is Under Control!\")\n",
    "#taking temperatures from user    \n",
    "s1 = float(input(\"Enter the Temperature of Sensor1 : \"))\n",
    "s2 = float(input(\"Enter the Temperature of Sensor2 : \"))\n",
    "s3 = float(input(\"Enter the Temperature of Sensor3 : \"))\n",
    "\n",
    "nuke_alarm(s1,s2,s3)#calling nuke_alarm function."
   ]
  },
  {
   "cell_type": "markdown",
   "id": "5c00c1ff",
   "metadata": {},
   "source": [
    " Q9.Write a function n_odds(x), where  𝑥  is a one-dimensional array of floats and the output is the number of odd numbers in  𝑥."
   ]
  },
  {
   "cell_type": "code",
   "execution_count": 3,
   "id": "209a2647",
   "metadata": {},
   "outputs": [
    {
     "name": "stdout",
     "output_type": "stream",
     "text": [
      "The Count of ODDS in the given array is :  4\n"
     ]
    }
   ],
   "source": [
    " \"\"\"\n",
    " _Summary_:We are trying to find number of odds in an array\n",
    " Author:Satya-22228\n",
    " Date:05-08-2022.\n",
    " \n",
    " \"\"\"\n",
    "def n_odds(a):#defing function\n",
    "    \"\"\" Parameters\n",
    "    ----------\n",
    "    x : array of floats\n",
    "\n",
    "    Returns\n",
    "    -------\n",
    "    int\n",
    "       n_odds in that array of floats\"\"\"\n",
    "    count =0 #initializing count to 0\n",
    "    for i in range(len(a)): \n",
    "        if (a[i])%2 !=0: # Converting float value into integer as it is not possible to tell a float value as even r odd\n",
    "            count = count + 1\n",
    "    return count\n",
    "x=[1,14,11,2,5,3]\n",
    "print(\"The Count of ODDS in the given array is : \" ,n_odds(x))\n",
    "#n_odds(x)"
   ]
  },
  {
   "cell_type": "markdown",
   "id": "eb7bf726",
   "metadata": {},
   "source": [
    "Q2. Write a program to compute the probability  𝑃(𝑋=𝑥),  where  𝑋∼𝐵𝑖𝑛(𝑛=10,𝑝=0.2)"
   ]
  },
  {
   "cell_type": "code",
   "execution_count": 3,
   "id": "eea223f4",
   "metadata": {},
   "outputs": [
    {
     "name": "stdout",
     "output_type": "stream",
     "text": [
      "Enter The No. of Bernoulli Trials :10\n",
      "Enter the probability of success :2\n",
      "Enter the specific random variable x :5\n",
      "*******Error****\n",
      " Probability Can Neither Be Greater Than 1 Nor Less Than 0\n"
     ]
    }
   ],
   "source": [
    "\"\"\"_Summary_: Computing probability of Binomial Distribution \n",
    "Author:Satya-22228\n",
    "Date:06-08-2022.\n",
    " Parameters\n",
    "    ----------\n",
    "    p : float\n",
    "       Taking User input (probability of success of those binomial trails)\n",
    "    n : int\n",
    "         Taking User input(number of binomial trails)\n",
    "     a: int\n",
    "        initializing to 0\n",
    "\n",
    "    Returns\n",
    "    -------\n",
    "    a \n",
    "\"\"\"\n",
    "from math import factorial as fac\n",
    "from math import pow\n",
    "\n",
    "def bin(x,n=10,p=0.5):\n",
    "    if x<=n:#checking whether x value is less than r equal to value of n\n",
    "        if p<0 or p>1:\n",
    "            print(\"*******Error****\")\n",
    "            print(\" Probability Can't be Greater Than 1 or Less Than 0\")\n",
    "            \n",
    "        else:\n",
    "            sum=0.0\n",
    "            ncr = factorial(n)/(factorial(x)*factorial(n-x))\n",
    "            pofx= ncr*(power(p,x))*(power(1-p,n-x))\n",
    "            \n",
    "            print(f\"𝑃(𝑋={x}) :\",pofx)\n",
    "          \n",
    "        \n",
    "    else :\n",
    "        print(f\"𝑃(𝑋={x}) : 0\")\n",
    "        \n",
    "    \n",
    "n = int(input(\"Enter The No. of Bernoulli Trials :\"))\n",
    "p = float(input(\"Enter the probability of success :\"))\n",
    "x = int(input(\"Enter the specific random variable x :\"))\n",
    "bin(x,n,p)"
   ]
  },
  {
   "cell_type": "code",
   "execution_count": null,
   "id": "9cff43dc",
   "metadata": {},
   "outputs": [],
   "source": []
  }
 ],
 "metadata": {
  "kernelspec": {
   "display_name": "Python 3 (ipykernel)",
   "language": "python",
   "name": "python3"
  },
  "language_info": {
   "codemirror_mode": {
    "name": "ipython",
    "version": 3
   },
   "file_extension": ".py",
   "mimetype": "text/x-python",
   "name": "python",
   "nbconvert_exporter": "python",
   "pygments_lexer": "ipython3",
   "version": "3.9.13"
  }
 },
 "nbformat": 4,
 "nbformat_minor": 5
}
