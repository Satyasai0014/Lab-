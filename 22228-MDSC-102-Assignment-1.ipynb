{
 "cells": [
  {
   "cell_type": "markdown",
   "id": "4eb124a0",
   "metadata": {},
   "source": [
    " In each of the following cases, compute EX, Var(X) and EXn\n",
    "(for n ≥ 0, an integer)\n",
    "whever they exists.\n",
    "\n",
    "\n",
    "(a) f(x) = e^−x, x ≥ 0."
   ]
  },
  {
   "cell_type": "code",
   "execution_count": 57,
   "id": "f4e18cb6",
   "metadata": {},
   "outputs": [
    {
     "name": "stdout",
     "output_type": "stream",
     "text": [
      "Enter the n value for Nth moment : 5\n",
      "E[x] = 0.9999999999999998\n",
      "E[x^2] = 2.0\n",
      "E[X^n] =  120.0\n",
      "Var(x) =  1.0000000000000004\n"
     ]
    }
   ],
   "source": [
    "\"\"\"_Summary_ : Finding Expectation,variance and Nth moments of the given function.\"\"\"\n",
    "\n",
    "\n",
    "\n",
    "\n",
    "from scipy import integrate as ig\n",
    "import numpy as np\n",
    "\n",
    "\n",
    "def E1(x):\n",
    "    return x * np.exp(-x)\n",
    "\n",
    "def E2(x):\n",
    "    return x**2 * np.exp(-x)\n",
    "n = int(input(\"Enter the n value for Nth moment : \"))\n",
    "def En(x):\n",
    "    return x**n * np.exp(-x)\n",
    "\n",
    "\n",
    "v1,e1 = ig.quad(E1,0,np.Inf)\n",
    "v2,e2 = ig.quad(E2,0,np.Inf)\n",
    "v3,e2 = ig.quad(En,0,np.Inf)\n",
    "\n",
    "print(\"E[x] =\",v1)\n",
    "print(\"E[x^2] =\",v2)\n",
    "print(\"E[X^n] = \",v3)\n",
    "print(\"Var(x) = \",(v2 - v1**2))"
   ]
  },
  {
   "cell_type": "markdown",
   "id": "5ae3ed17",
   "metadata": {},
   "source": [
    "\n",
    "(b).f(x) = 1/[π(1 + x^2)], −∞ < x < ∞."
   ]
  },
  {
   "cell_type": "code",
   "execution_count": 68,
   "id": "b449ec57",
   "metadata": {},
   "outputs": [
    {
     "ename": "SyntaxError",
     "evalue": "invalid syntax (3802614762.py, line 9)",
     "output_type": "error",
     "traceback": [
      "\u001b[1;36m  Input \u001b[1;32mIn [68]\u001b[1;36m\u001b[0m\n\u001b[1;33m    a = int(input(\"Enter the N value for the Nth moment : \"))\u001b[0m\n\u001b[1;37m    ^\u001b[0m\n\u001b[1;31mSyntaxError\u001b[0m\u001b[1;31m:\u001b[0m invalid syntax\n"
     ]
    }
   ],
   "source": [
    "from math import inf, pi\n",
    "import scipy.integrate as ig        \n",
    "\n",
    "\n",
    "def E1(x):\n",
    "    return ( 1/(pi*(1+x*x)) )\n",
    "def E2(x):\n",
    "    return (x**2 (1/(pi*(1+x*x)))\n",
    "            \n",
    "a = int(input(\"Enter the N value for the Nth moment : \"))\n",
    "def En(x):\n",
    "    return(x**a(1/pi*(1+x*x)))\n",
    "v1,e1=ig.quad(E1, -inf, inf)               \n",
    "v2,e2=ig.quad(E2, -inf, inf)\n",
    "v3,e3 = ig.quad(En,-inf,inf)\n",
    "\n",
    "print(\"E[X] = \",v1)\n",
    "print(\"E[X^2]=\",v2)\n",
    "print(\"E[X^n]=\",v3)\n",
    "\n",
    "print(\"Var(x) = \",(v2 - v1**2))"
   ]
  },
  {
   "cell_type": "markdown",
   "id": "4cf2083a",
   "metadata": {},
   "source": [
    "(c) f(x) = xe^−x\n",
    ", x ≥ 0."
   ]
  },
  {
   "cell_type": "code",
   "execution_count": 43,
   "id": "69bb8310",
   "metadata": {},
   "outputs": [
    {
     "name": "stdout",
     "output_type": "stream",
     "text": [
      "Enter the n value for the nth Moment  :1\n",
      "E[x] = 2.0\n",
      "E[x^2] = 6.0\n",
      "E[X^n] = 2.0\n",
      "Var(x) =  2.0\n"
     ]
    }
   ],
   "source": [
    "from scipy import integrate as ig\n",
    "import numpy as np\n",
    "\n",
    "\n",
    "def E1(x):\n",
    "    b = x*(x * np.exp(-x))\n",
    "    return b\n",
    "\n",
    "def E2(x):\n",
    "    a=x*(x**2 * np.exp(-x))\n",
    "    return a\n",
    "n = int(input(\"Enter the n value for the nth Moment  :\"))\n",
    "\n",
    "def En(x):\n",
    "    c = x *(x**n * np.exp(-x))\n",
    "    return c\n",
    "\n",
    "v1,e1 = ig.quad(E1,0,np.Inf)\n",
    "v2,e2 = ig.quad(E2,0,np.Inf)\n",
    "v3,e3 = ig.quad(En,0,np.Inf)\n",
    "\n",
    "print(\"E[x] =\",v1)\n",
    "print(\"E[x^2] =\",v2)\n",
    "print(\"E[X^n] =\" ,v3)\n",
    "print(\"Var(x) = \",(v2 - v1**2))"
   ]
  },
  {
   "cell_type": "markdown",
   "id": "33ec3b15",
   "metadata": {},
   "source": [
    "(d). f(x) = p(1 − p)^x−1\n",
    ", x = 1, 2, ...; 0 < p < 1."
   ]
  },
  {
   "cell_type": "code",
   "execution_count": 2,
   "id": "79fa71e2",
   "metadata": {},
   "outputs": [
    {
     "name": "stdout",
     "output_type": "stream",
     "text": [
      "Enter P value :0.2\n",
      "Enter n value :10\n",
      "E[X] = 3.1209518080000005\n",
      "E[X^2] = 16.008970752000003\n",
      "Var(X) =  6.268630564141532\n"
     ]
    }
   ],
   "source": [
    "from scipy import integrate\n",
    "import numpy as np\n",
    "\n",
    "\n",
    "def E1(x,p):\n",
    "    return x*(p*((1-p)**(x-1)))\n",
    "\n",
    "def E2(x,p):\n",
    "    return x**2*(p*((1-p)**(x-1)))\n",
    "#y = int(input(\"Enter the N Value for the Nth Moment : \"))\n",
    "def En(x,p):\n",
    "    return x**y*(p*((1-p)**(x-1)))\n",
    "\n",
    "p = float(input(\"Enter P value :\"))\n",
    "n = int(input(\"Enter n value :\"))\n",
    "\n",
    "if p > 1 or p < 0:\n",
    "    print(\"p cant be less than 0 or greater than one\")\n",
    "    \n",
    "else : \n",
    "    v1=0\n",
    "    v2=0\n",
    "    v3=0\n",
    "    for i in range(n):\n",
    "        v1 = v1 + E1(i,p)\n",
    "        v2 = v2 + E2(i,p)\n",
    "        #v3 = v3 + En(i,p)\n",
    "        \n",
    "print(\"E[X] =\",v1)\n",
    "print(\"E[X^2] =\",v2)\n",
    "#print(\"E[X^n] =\",v3)\n",
    "print(\"Var(X) = \",(v2 - v1**2))"
   ]
  }
 ],
 "metadata": {
  "kernelspec": {
   "display_name": "Python 3 (ipykernel)",
   "language": "python",
   "name": "python3"
  },
  "language_info": {
   "codemirror_mode": {
    "name": "ipython",
    "version": 3
   },
   "file_extension": ".py",
   "mimetype": "text/x-python",
   "name": "python",
   "nbconvert_exporter": "python",
   "pygments_lexer": "ipython3",
   "version": "3.9.13"
  }
 },
 "nbformat": 4,
 "nbformat_minor": 5
}
